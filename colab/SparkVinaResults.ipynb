{
  "nbformat": 4,
  "nbformat_minor": 0,
  "metadata": {
    "colab": {
      "name": "SparkVinaResults.ipynb",
      "provenance": []
    },
    "kernelspec": {
      "name": "python3",
      "display_name": "Python 3"
    }
  },
  "cells": [
    {
      "cell_type": "code",
      "metadata": {
        "id": "L8Y3zwU4vvYZ",
        "colab_type": "code",
        "colab": {
          "base_uri": "https://localhost:8080/",
          "height": 187
        },
        "outputId": "254ede58-f5f8-4b0b-a2f6-236e7f2f7250"
      },
      "source": [
        "!apt install openjdk-8-jdk\n",
        "!pip install pyspark\n",
        "\n",
        "import os\n",
        "os.environ[\"JAVA_HOME\"] = \"/usr/lib/jvm/java-8-openjdk-amd64\"\n",
        "\n",
        "!update-alternatives --set java /usr/lib/jvm/java-8-openjdk-amd64/jre/bin/java\n",
        "!java -version"
      ],
      "execution_count": 1,
      "outputs": [
        {
          "output_type": "stream",
          "text": [
            "Reading package lists... Done\n",
            "Building dependency tree       \n",
            "Reading state information... Done\n",
            "openjdk-8-jdk is already the newest version (8u242-b08-0ubuntu3~18.04).\n",
            "0 upgraded, 0 newly installed, 0 to remove and 25 not upgraded.\n",
            "Requirement already satisfied: pyspark in /usr/local/lib/python3.6/dist-packages (2.4.5)\n",
            "Requirement already satisfied: py4j==0.10.7 in /usr/local/lib/python3.6/dist-packages (from pyspark) (0.10.7)\n",
            "openjdk version \"1.8.0_242\"\n",
            "OpenJDK Runtime Environment (build 1.8.0_242-8u242-b08-0ubuntu3~18.04-b08)\n",
            "OpenJDK 64-Bit Server VM (build 25.242-b08, mixed mode)\n"
          ],
          "name": "stdout"
        }
      ]
    },
    {
      "cell_type": "code",
      "metadata": {
        "id": "IMcvjRs_wYF5",
        "colab_type": "code",
        "colab": {}
      },
      "source": [
        "from pyspark import SparkContext\n",
        "from pyspark.sql import SQLContext\n",
        "\n",
        "sc = SparkContext(\"local\", \"DisplaySparkVinaResults\")"
      ],
      "execution_count": 0,
      "outputs": []
    },
    {
      "cell_type": "code",
      "metadata": {
        "id": "5TK6Q5ZbxLs2",
        "colab_type": "code",
        "colab": {}
      },
      "source": [
        "sqlContext = SQLContext(sc)\n",
        "\n",
        "df = sqlContext.read.parquet('./docking_results');"
      ],
      "execution_count": 0,
      "outputs": []
    },
    {
      "cell_type": "markdown",
      "metadata": {
        "id": "5ic3GlsQ6C3i",
        "colab_type": "text"
      },
      "source": [
        "The following is the corresponding Parquet message type:\n",
        "\n",
        "```\n",
        "message spark_schema {\n",
        "  required binary name (UTF8);\n",
        "  required int32 num_models;\n",
        "  required double affinity_mean;\n",
        "  required double affinity_std;\n",
        "  required group vina_results (LIST) {\n",
        "    repeated group list {\n",
        "      required group element {\n",
        "        required double affinity;\n",
        "        required binary ligand_string (UTF8);\n",
        "      }\n",
        "    }\n",
        "  }\n",
        "}\n",
        "```"
      ]
    },
    {
      "cell_type": "code",
      "metadata": {
        "id": "_yA9X5UO0o56",
        "colab_type": "code",
        "colab": {
          "base_uri": "https://localhost:8080/",
          "height": 187
        },
        "outputId": "d06e9b57-b598-4495-d7d6-11cfe5ed4f73"
      },
      "source": [
        "df.select('name', 'num_models', 'affinity_mean').show()"
      ],
      "execution_count": 14,
      "outputs": [
        {
          "output_type": "stream",
          "text": [
            "+----------------+----------+------------------+\n",
            "|            name|num_models|     affinity_mean|\n",
            "+----------------+----------+------------------+\n",
            "|ZINC000225517327|         1|-5.946362565694668|\n",
            "|ZINC000022923279|         2| -5.69926030565343|\n",
            "|ZINC000022923695|         2|-5.994681117293945|\n",
            "|ZINC000022923476|         2|-5.729991040122308|\n",
            "|ZINC000225520421|         1|-5.727535780933955|\n",
            "+----------------+----------+------------------+\n",
            "\n"
          ],
          "name": "stdout"
        }
      ]
    },
    {
      "cell_type": "code",
      "metadata": {
        "id": "D_o3Mbc20pWm",
        "colab_type": "code",
        "colab": {}
      },
      "source": [
        "vina_results = df.select('vina_results').collect()"
      ],
      "execution_count": 0,
      "outputs": []
    },
    {
      "cell_type": "code",
      "metadata": {
        "id": "l7wdNqHp6RBO",
        "colab_type": "code",
        "colab": {
          "base_uri": "https://localhost:8080/",
          "height": 71
        },
        "outputId": "5b26840d-9c5c-4975-f155-be84ff9e6e15"
      },
      "source": [
        "vina_results[1]['vina_results']"
      ],
      "execution_count": 21,
      "outputs": [
        {
          "output_type": "execute_result",
          "data": {
            "text/plain": [
              "[Row(affinity=-5.902289124681911, ligand_string='\\nREMARK  Name = ZINC000022923279\\nREMARK                            x       y       z     vdW  Elec       q    Type\\nREMARK                         _______ _______ _______ _____ _____    ______ ____\\nROOT\\nATOM      1  N   LIG    1        1.044  -3.922  -0.174  0.00  0.00    -0.490 NA\\nATOM      2  C   LIG    1        1.559  -4.436   1.119  0.00  0.00    +0.210 C \\nATOM      3  C   LIG    1        2.240  -5.788   0.829  0.00  0.00    +0.080 C \\nATOM      4  C   LIG    1        2.069  -6.001  -0.703  0.00  0.00    +0.180 C \\nATOM      5  N   LIG    1        0.890  -6.816  -0.901  0.00  0.00    -0.360 N \\nATOM      6  C   LIG    1       -0.235  -6.048  -0.351  0.00  0.00    +0.320 C \\nATOM      7  H   LIG    1        0.982  -7.665  -0.363  0.00  0.00    +0.420 HD\\nATOM      8  C   LIG    1        0.571  -7.173  -2.238  0.00  0.00    +0.140 C \\nATOM      9  C   LIG    1       -0.279  -6.167  -2.975  0.00  0.00    +0.330 C \\nATOM     10  N   LIG    1        0.473  -4.968  -3.291  0.00  0.00    -0.700 N \\nATOM     11  H   LIG    1        0.266  -4.544  -4.138  0.00  0.00    +0.430 HD\\nATOM     12  C   LIG    1        1.399  -4.391  -2.568  0.00  0.00    +0.520 C \\nATOM     13  O   LIG    1        1.987  -3.516  -3.168  0.00  0.00    -0.530 OA\\nATOM     14  C   LIG    1        1.882  -4.565  -1.203  0.00  0.00    +0.170 C \\nENDROOT\\nBRANCH   1  19\\nATOM     15  C   LIG    1        2.155   1.470   1.076  0.00  0.00    +0.330 C \\nATOM     16  N   LIG    1        1.987   0.011   1.026  0.00  0.00    -0.390 N \\nATOM     17  C   LIG    1        2.734  -0.527  -0.117  0.00  0.00    +0.270 C \\nATOM     18  C   LIG    1        2.630  -2.054  -0.127  0.00  0.00    +0.030 C \\nATOM     19  C   LIG    1        1.157  -2.459  -0.241  0.00  0.00    +0.170 C \\nATOM     20  C   LIG    1        0.374  -1.831   0.916  0.00  0.00    +0.070 C \\nATOM     21  C   LIG    1        0.562  -0.312   0.885  0.00  0.00    +0.260 C \\nATOM     22  H   LIG    1        2.341  -0.396   1.879  0.00  0.00    +0.420 HD\\nENDBRANCH   1  19\\nBRANCH   8  23\\nATOM     23  C   LIG    1       -0.167  -8.512  -2.214  0.00  0.00    +0.110 C \\nBRANCH  23  24\\nATOM     24  C   LIG    1        0.742  -9.585  -1.609  0.00  0.00    +0.040 C \\nBRANCH  24  25\\nATOM     25  C   LIG    1        0.067 -10.929  -1.708  0.00  0.00    +0.520 C \\nATOM     26  N   LIG    1        0.686 -12.029  -1.236  0.00  0.00    -0.610 N \\nATOM     27  C   LIG    1        2.017 -11.943  -0.615  0.00  0.00    +0.250 C \\nATOM     28  C   LIG    1        1.969 -12.666   0.736  0.00  0.00    +0.220 C \\nATOM     29  O   LIG    1        1.441 -13.981   0.547  0.00  0.00    -0.370 OA\\nATOM     30  C   LIG    1        0.097 -14.008   0.060  0.00  0.00    +0.230 C \\nATOM     31  C   LIG    1        0.047 -13.352  -1.321  0.00  0.00    +0.270 C \\nATOM     32  O   LIG    1       -1.032 -11.020  -2.212  0.00  0.00    -0.520 OA\\nENDBRANCH  24  25\\nENDBRANCH  23  24\\nENDBRANCH   8  23\\nTORSDOF 4'),\n",
              " Row(affinity=-5.496231486624949, ligand_string='\\nREMARK  Name = ZINC000022923279\\nREMARK                            x       y       z     vdW  Elec       q    Type\\nREMARK                         _______ _______ _______ _____ _____    ______ ____\\nROOT\\nATOM      1  N   LIG    1        2.029  -4.186  -0.081  0.00  0.00    -0.500 NA\\nATOM      2  C   LIG    1        2.402  -4.832   1.200  0.00  0.00    +0.200 C \\nATOM      3  C   LIG    1        2.664  -6.321   0.897  0.00  0.00    +0.080 C \\nATOM      4  C   LIG    1        2.408  -6.468  -0.630  0.00  0.00    +0.180 C \\nATOM      5  N   LIG    1        1.041  -6.913  -0.803  0.00  0.00    -0.360 N \\nATOM      6  C   LIG    1        0.838  -8.140  -0.022  0.00  0.00    +0.340 C \\nATOM      7  H   LIG    1        0.457  -6.191  -0.408  0.00  0.00    +0.420 HD\\nATOM      8  C   LIG    1        0.607  -7.157  -2.132  0.00  0.00    +0.130 C \\nATOM      9  C   LIG    1        0.064  -5.947  -2.852  0.00  0.00    +0.330 C \\nATOM     10  N   LIG    1        1.120  -5.010  -3.185  0.00  0.00    -0.700 N \\nATOM     11  H   LIG    1        1.024  -4.540  -4.028  0.00  0.00    +0.420 HD\\nATOM     12  C   LIG    1        2.186  -4.724  -2.483  0.00  0.00    +0.520 C \\nATOM     13  O   LIG    1        2.987  -4.051  -3.096  0.00  0.00    -0.530 OA\\nATOM     14  C   LIG    1        2.627  -5.035  -1.127  0.00  0.00    +0.170 C \\nENDROOT\\nBRANCH   1  19\\nATOM     15  C   LIG    1        4.709   0.637   1.109  0.00  0.00    +0.330 C \\nATOM     16  N   LIG    1        4.128  -0.711   1.067  0.00  0.00    -0.390 N \\nATOM     17  C   LIG    1        4.622  -1.418  -0.121  0.00  0.00    +0.270 C \\nATOM     18  C   LIG    1        4.084  -2.851  -0.127  0.00  0.00    +0.020 C \\nATOM     19  C   LIG    1        2.553  -2.815  -0.152  0.00  0.00    +0.180 C \\nATOM     20  C   LIG    1        2.051  -2.012   1.051  0.00  0.00    +0.070 C \\nATOM     21  C   LIG    1        2.664  -0.611   1.012  0.00  0.00    +0.260 C \\nATOM     22  H   LIG    1        4.398  -1.219   1.896  0.00  0.00    +0.420 HD\\nENDBRANCH   1  19\\nBRANCH   8  23\\nATOM     23  C   LIG    1       -0.481  -8.231  -2.091  0.00  0.00    +0.090 C \\nBRANCH  23  24\\nATOM     24  C   LIG    1       -0.875  -8.613  -3.519  0.00  0.00    +0.070 C \\nBRANCH  24  25\\nATOM     25  C   LIG    1       -1.849  -9.762  -3.482  0.00  0.00    +0.520 C \\nATOM     26  N   LIG    1       -2.336 -10.270  -4.631  0.00  0.00    -0.610 N \\nATOM     27  C   LIG    1       -1.927  -9.724  -5.934  0.00  0.00    +0.250 C \\nATOM     28  C   LIG    1       -1.484 -10.887  -6.829  0.00  0.00    +0.210 C \\nATOM     29  O   LIG    1       -2.511 -11.881  -6.851  0.00  0.00    -0.370 OA\\nATOM     30  C   LIG    1       -2.783 -12.471  -5.578  0.00  0.00    +0.230 C \\nATOM     31  C   LIG    1       -3.289 -11.392  -4.620  0.00  0.00    +0.260 C \\nATOM     32  O   LIG    1       -2.195 -10.229  -2.417  0.00  0.00    -0.540 OA\\nENDBRANCH  24  25\\nENDBRANCH  23  24\\nENDBRANCH   8  23\\nTORSDOF 4')]"
            ]
          },
          "metadata": {
            "tags": []
          },
          "execution_count": 21
        }
      ]
    },
    {
      "cell_type": "code",
      "metadata": {
        "id": "AoLxelrS6qTI",
        "colab_type": "code",
        "colab": {}
      },
      "source": [
        ""
      ],
      "execution_count": 0,
      "outputs": []
    }
  ]
}