{
 "cells": [
  {
   "cell_type": "markdown",
   "metadata": {},
   "source": [
    "### 加载一些需要用到的Python Modules。"
   ]
  },
  {
   "cell_type": "code",
   "execution_count": 1,
   "metadata": {},
   "outputs": [
    {
     "data": {
      "application/vnd.jupyter.widget-view+json": {
       "model_id": "22ab932168f54237a24dc72aa371dcce",
       "version_major": 2,
       "version_minor": 0
      },
      "text/plain": [
       "_ColormakerRegistry()"
      ]
     },
     "metadata": {},
     "output_type": "display_data"
    }
   ],
   "source": [
    "import mdtraj\n",
    "import nglview\n",
    "import tempfile\n",
    "\n",
    "from openbabel import pybel"
   ]
  },
  {
   "cell_type": "code",
   "execution_count": 2,
   "metadata": {},
   "outputs": [],
   "source": [
    "from pyspark import SparkContext\n",
    "from pyspark.sql import SQLContext\n",
    "\n",
    "sc = SparkContext(\"local\", \"DisplaySparkVinaResults\")"
   ]
  },
  {
   "cell_type": "markdown",
   "metadata": {},
   "source": [
    "### 建立一个SparkSqlContext\n",
    "\n",
    "注意一下`read.parquet(...)`里面要加一个文件夹。这个文件夹里面是我们SparkVina输出的结果。\n",
    "如果你一直用我给的路径，就应该是这个路径。\n",
    "如果不是，你可以返回到Jupyter主页，右上角点New，New一个terminal。通过`ls`来找一下这个folder。\n",
    "\n",
    "这个folder里面只有类似这种文件：\n",
    "+ _SUCCESS\n",
    "+ ....parquet\n",
    "+ ....parquet"
   ]
  },
  {
   "cell_type": "code",
   "execution_count": 3,
   "metadata": {},
   "outputs": [],
   "source": [
    "sqlContext = SQLContext(sc)\n",
    "\n",
    "df = sqlContext.read.parquet('./output_test_2');"
   ]
  },
  {
   "cell_type": "markdown",
   "metadata": {},
   "source": [
    "The following is the corresponding Parquet message type:\n",
    "\n",
    "```\n",
    "message spark_schema {\n",
    "  required binary name (UTF8);\n",
    "  required int32 num_models;\n",
    "  required double affinity_mean;\n",
    "  required double affinity_std;\n",
    "  required group vina_results (LIST) {\n",
    "    repeated group list {\n",
    "      required group element {\n",
    "        required double affinity;\n",
    "        required binary ligand_string (UTF8);\n",
    "      }\n",
    "    }\n",
    "  }\n",
    "}\n",
    "```\n",
    "\n",
    "+ name: The name of the small compound\n",
    "+ num_models: The number of models obtained from the docking.\n",
    "+ affinity_mean: The average score of docking this small compound to the protein.\n",
    "+ affinity_std: The standard deviation of docking this small compound to the protein.\n",
    "+ vina_results: The details of the result."
   ]
  },
  {
   "cell_type": "code",
   "execution_count": 4,
   "metadata": {},
   "outputs": [
    {
     "name": "stdout",
     "output_type": "stream",
     "text": [
      "+----------------+----------+-------------------+-------------------+\n",
      "|            name|num_models|      affinity_mean|       affinity_std|\n",
      "+----------------+----------+-------------------+-------------------+\n",
      "|ZINC000044171185|         8| -5.566175985538466|0.16081887160117989|\n",
      "|ZINC000009255826|         8|-5.5394295579982815|0.19226259989484354|\n",
      "+----------------+----------+-------------------+-------------------+\n",
      "\n"
     ]
    }
   ],
   "source": [
    "df.select('name', 'num_models', 'affinity_mean', 'affinity_std').show()"
   ]
  },
  {
   "cell_type": "markdown",
   "metadata": {},
   "source": [
    "### 提取详细结果"
   ]
  },
  {
   "cell_type": "code",
   "execution_count": 5,
   "metadata": {},
   "outputs": [],
   "source": [
    "vina_results = df.select('vina_results').collect()"
   ]
  },
  {
   "cell_type": "markdown",
   "metadata": {},
   "source": [
    "### 查看vina_results的内容（可参看以上的schema）"
   ]
  },
  {
   "cell_type": "code",
   "execution_count": 6,
   "metadata": {},
   "outputs": [
    {
     "data": {
      "text/plain": [
       "[Row(vina_results=[Row(random_seed=-1944351971, vina_result=[Row(affinity=-5.74657186271299, docked_pdbqt='\\nREMARK  Name = ZINC000044171185\\nREMARK                            x       y       z     vdW  Elec       q    Type\\nREMARK                         _______ _______ _______ _____ _____    ______ ____\\nROOT\\nATOM      1  C   LIG    1      171.546-109.786-112.188  0.00  0.00    +0.180 C \\nATOM      2  O   LIG    1      171.303-110.972-111.400  0.00  0.00    -0.340 OA\\nATOM      3  C   LIG    1      169.867-111.074-111.298  0.00  0.00    +0.430 C \\nATOM      4  C   LIG    1      169.383-109.623-111.081  0.00  0.00    +0.180 C \\nATOM      5  C   LIG    1      170.512-108.755-111.683  0.00  0.00    +0.190 C \\nENDROOT\\nBRANCH   3   6\\nATOM      6  N   LIG    1      169.494-111.914-110.156  0.00  0.00    -0.490 N \\nATOM      7  C   LIG    1      168.227-112.295-109.814  0.00  0.00    +0.380 A \\nATOM      8  N   LIG    1      168.258-113.038-108.748  0.00  0.00    -0.440 NA\\nATOM      9  C   LIG    1      169.545-113.181-108.337  0.00  0.00    -0.230 A \\nATOM     10  C   LIG    1      170.162-113.852-107.278  0.00  0.00    +0.520 A \\nATOM     11  N   LIG    1      171.520-113.778-107.166  0.00  0.00    -0.680 NA\\nATOM     12  C   LIG    1      172.240-113.073-108.055  0.00  0.00    +0.640 A \\nATOM     13  N   LIG    1      171.669-112.431-109.067  0.00  0.00    -0.680 NA\\nATOM     14  O   LIG    1      173.453-113.024-107.931  0.00  0.00    -0.610 OA\\nATOM     15  C   LIG    1      170.352-112.464-109.244  0.00  0.00    +0.390 A \\nBRANCH  10  16\\nATOM     16  N   LIG    1      169.422-114.566-106.376  0.00  0.00    -0.830 N \\nATOM     17  H   LIG    1      168.466-114.415-106.304  0.00  0.00    +0.400 HD\\nATOM     18  H   LIG    1      169.853-115.224-105.808  0.00  0.00    +0.410 HD\\nENDBRANCH  10  16\\nENDBRANCH   3   6\\nBRANCH   1  19\\nATOM     19  C   LIG    1      172.968-109.273-111.955  0.00  0.00    +0.260 C \\nBRANCH  19  20\\nATOM     20  O   LIG    1      173.575-110.007-110.858  0.00  0.00    -0.350 OA\\nBRANCH  20  22\\nATOM     21  C   LIG    1      174.683-109.811-108.660  0.00  0.00    +0.150 C \\nATOM     22  C   LIG    1      174.418-109.330-110.064  0.00  0.00    +0.460 C \\nATOM     23  O   LIG    1      174.964-108.333-110.473  0.00  0.00    -0.510 OA\\nENDBRANCH  20  22\\nENDBRANCH  19  20\\nENDBRANCH   1  19\\nBRANCH   4  24\\nATOM     24  O   LIG    1      168.134-109.393-111.786  0.00  0.00    -0.330 OA\\nBRANCH  24  25\\nATOM     25  C   LIG    1      167.082-109.000-111.050  0.00  0.00    +0.450 C \\nATOM     26  O   LIG    1      166.072-109.664-111.037  0.00  0.00    -0.490 OA\\nATOM     27  C   LIG    1      167.160-107.732-110.240  0.00  0.00    +0.160 C \\nENDBRANCH  24  25\\nENDBRANCH   4  24\\nBRANCH   5  28\\nATOM     28  O   LIG    1      170.007-107.952-112.782  0.00  0.00    -0.320 OA\\nBRANCH  28  29\\nATOM     29  C   LIG    1      169.924-106.627-112.581  0.00  0.00    +0.460 C \\nATOM     30  O   LIG    1      170.052-106.177-111.468  0.00  0.00    -0.510 OA\\nATOM     31  C   LIG    1      169.670-105.703-113.744  0.00  0.00    +0.160 C \\nENDBRANCH  28  29\\nENDBRANCH   5  28\\nTORSDOF 9\\n'), Row(affinity=-5.704655487019222, docked_pdbqt='\\nREMARK  Name = ZINC000044171185\\nREMARK                            x       y       z     vdW  Elec       q    Type\\nREMARK                         _______ _______ _______ _____ _____    ______ ____\\nROOT\\nATOM      1  C   LIG    1      170.456-113.174-110.704  0.00  0.00    +0.180 C \\nATOM      2  O   LIG    1      170.222-112.230-111.772  0.00  0.00    -0.340 OA\\nATOM      3  C   LIG    1      171.432-111.446-111.860  0.00  0.00    +0.430 C \\nATOM      4  C   LIG    1      171.849-111.200-110.394  0.00  0.00    +0.180 C \\nATOM      5  C   LIG    1      171.195-112.365-109.615  0.00  0.00    +0.190 C \\nENDROOT\\nBRANCH   3   6\\nATOM      6  N   LIG    1      171.168-110.174-112.538  0.00  0.00    -0.490 N \\nATOM      7  C   LIG    1      171.320-109.924-113.873  0.00  0.00    +0.380 A \\nATOM      8  N   LIG    1      170.998-108.693-114.135  0.00  0.00    -0.440 NA\\nATOM      9  C   LIG    1      170.619-108.073-112.987  0.00  0.00    -0.230 A \\nATOM     10  C   LIG    1      170.183-106.783-112.673  0.00  0.00    +0.520 A \\nATOM     11  N   LIG    1      169.880-106.499-111.373  0.00  0.00    -0.680 NA\\nATOM     12  C   LIG    1      170.001-107.442-110.423  0.00  0.00    +0.640 A \\nATOM     13  N   LIG    1      170.413-108.672-110.705  0.00  0.00    -0.680 NA\\nATOM     14  O   LIG    1      169.722-107.161-109.269  0.00  0.00    -0.610 OA\\nATOM     15  C   LIG    1      170.720-109.023-111.951  0.00  0.00    +0.390 A \\nBRANCH  10  16\\nATOM     16  N   LIG    1      170.063-105.829-113.645  0.00  0.00    -0.830 N \\nATOM     17  H   LIG    1      169.450-105.964-114.385  0.00  0.00    +0.400 HD\\nATOM     18  H   LIG    1      170.591-105.016-113.595  0.00  0.00    +0.410 HD\\nENDBRANCH  10  16\\nENDBRANCH   3   6\\nBRANCH   1  19\\nATOM     19  C   LIG    1      169.128-113.707-110.164  0.00  0.00    +0.260 C \\nBRANCH  19  20\\nATOM     20  O   LIG    1      168.369-112.615-109.580  0.00  0.00    -0.350 OA\\nBRANCH  20  22\\nATOM     21  C   LIG    1      166.718-114.095-108.493  0.00  0.00    +0.150 C \\nATOM     22  C   LIG    1      167.633-112.897-108.494  0.00  0.00    +0.460 C \\nATOM     23  O   LIG    1      167.704-112.191-107.517  0.00  0.00    -0.510 OA\\nENDBRANCH  20  22\\nENDBRANCH  19  20\\nENDBRANCH   1  19\\nBRANCH   4  24\\nATOM     24  O   LIG    1      173.295-111.249-110.262  0.00  0.00    -0.330 OA\\nBRANCH  24  25\\nATOM     25  C   LIG    1      173.914-110.108-109.920  0.00  0.00    +0.450 C \\nATOM     26  O   LIG    1      173.815-109.131-110.626  0.00  0.00    -0.490 OA\\nATOM     27  C   LIG    1      174.733-110.044-108.656  0.00  0.00    +0.160 C \\nENDBRANCH  24  25\\nENDBRANCH   4  24\\nBRANCH   5  28\\nATOM     28  O   LIG    1      172.208-113.179-108.968  0.00  0.00    -0.320 OA\\nBRANCH  28  29\\nATOM     29  C   LIG    1      172.062-113.404-107.653  0.00  0.00    +0.460 C \\nATOM     30  O   LIG    1      172.775-114.204-107.096  0.00  0.00    -0.510 OA\\nATOM     31  C   LIG    1      171.009-112.661-106.873  0.00  0.00    +0.160 C \\nENDBRANCH  28  29\\nENDBRANCH   5  28\\nTORSDOF 9\\n'), Row(affinity=-5.42784326557944, docked_pdbqt='\\nREMARK  Name = ZINC000044171185\\nREMARK                            x       y       z     vdW  Elec       q    Type\\nREMARK                         _______ _______ _______ _____ _____    ______ ____\\nROOT\\nATOM      1  C   LIG    1      171.819-111.507-109.117  0.00  0.00    +0.180 C \\nATOM      2  O   LIG    1      171.291-110.339-109.782  0.00  0.00    -0.340 OA\\nATOM      3  C   LIG    1      169.856-110.493-109.741  0.00  0.00    +0.430 C \\nATOM      4  C   LIG    1      169.613-111.991-110.028  0.00  0.00    +0.180 C \\nATOM      5  C   LIG    1      170.934-112.675-109.605  0.00  0.00    +0.190 C \\nENDROOT\\nBRANCH   3   6\\nATOM      6  N   LIG    1      169.224-109.665-110.772  0.00  0.00    -0.490 N \\nATOM      7  C   LIG    1      168.687-110.110-111.948  0.00  0.00    +0.380 A \\nATOM      8  N   LIG    1      168.211-109.109-112.627  0.00  0.00    -0.440 NA\\nATOM      9  C   LIG    1      168.410-107.959-111.932  0.00  0.00    -0.230 A \\nATOM     10  C   LIG    1      168.113-106.614-112.167  0.00  0.00    +0.520 A \\nATOM     11  N   LIG    1      168.471-105.696-111.222  0.00  0.00    -0.680 NA\\nATOM     12  C   LIG    1      169.094-106.084-110.096  0.00  0.00    +0.640 A \\nATOM     13  N   LIG    1      169.382-107.358-109.858  0.00  0.00    -0.680 NA\\nATOM     14  O   LIG    1      169.402-105.242-109.267  0.00  0.00    -0.610 OA\\nATOM     15  C   LIG    1      169.058-108.308-110.730  0.00  0.00    +0.390 A \\nBRANCH  10  16\\nATOM     16  N   LIG    1      167.480-106.227-113.315  0.00  0.00    -0.830 N \\nATOM     17  H   LIG    1      167.352-106.862-114.037  0.00  0.00    +0.400 HD\\nATOM     18  H   LIG    1      167.158-105.316-113.408  0.00  0.00    +0.410 HD\\nENDBRANCH  10  16\\nENDBRANCH   3   6\\nBRANCH   1  19\\nATOM     19  C   LIG    1      173.276-111.737-109.522  0.00  0.00    +0.260 C \\nBRANCH  19  20\\nATOM     20  O   LIG    1      173.771-110.574-110.235  0.00  0.00    -0.350 OA\\nBRANCH  20  22\\nATOM     21  C   LIG    1      174.999-108.432-110.187  0.00  0.00    +0.150 C \\nATOM     22  C   LIG    1      174.539-109.716-109.545  0.00  0.00    +0.460 C \\nATOM     23  O   LIG    1      174.861-109.974-108.410  0.00  0.00    -0.510 OA\\nENDBRANCH  20  22\\nENDBRANCH  19  20\\nENDBRANCH   1  19\\nBRANCH   4  24\\nATOM     24  O   LIG    1      168.505-112.488-109.231  0.00  0.00    -0.330 OA\\nBRANCH  24  25\\nATOM     25  C   LIG    1      167.611-113.274-109.852  0.00  0.00    +0.450 C \\nATOM     26  O   LIG    1      166.714-113.785-109.223  0.00  0.00    -0.490 OA\\nATOM     27  C   LIG    1      167.726-113.521-111.335  0.00  0.00    +0.160 C \\nENDBRANCH  24  25\\nENDBRANCH   4  24\\nBRANCH   5  28\\nATOM     28  O   LIG    1      170.695-113.624-108.532  0.00  0.00    -0.320 OA\\nBRANCH  28  29\\nATOM     29  C   LIG    1      171.188-113.313-107.323  0.00  0.00    +0.460 C \\nATOM     30  O   LIG    1      172.185-113.864-106.918  0.00  0.00    -0.510 OA\\nATOM     31  C   LIG    1      170.499-112.280-106.470  0.00  0.00    +0.160 C \\nENDBRANCH  28  29\\nENDBRANCH   5  28\\nTORSDOF 9\\n'), Row(affinity=-5.385633326842211, docked_pdbqt='\\nREMARK  Name = ZINC000044171185\\nREMARK                            x       y       z     vdW  Elec       q    Type\\nREMARK                         _______ _______ _______ _____ _____    ______ ____\\nROOT\\nATOM      1  C   LIG    1      170.276-111.276-108.050  0.00  0.00    +0.180 C \\nATOM      2  O   LIG    1      171.002-110.463-108.999  0.00  0.00    -0.340 OA\\nATOM      3  C   LIG    1      169.990-109.832-109.812  0.00  0.00    +0.430 C \\nATOM      4  C   LIG    1      168.935-110.933-110.054  0.00  0.00    +0.180 C \\nATOM      5  C   LIG    1      169.125-111.905-108.866  0.00  0.00    +0.190 C \\nENDROOT\\nBRANCH   3   6\\nATOM      6  N   LIG    1      170.564-109.384-111.084  0.00  0.00    -0.490 N \\nATOM      7  C   LIG    1      171.571-109.997-111.776  0.00  0.00    +0.380 A \\nATOM      8  N   LIG    1      171.834-109.333-112.862  0.00  0.00    -0.440 NA\\nATOM      9  C   LIG    1      171.014-108.253-112.938  0.00  0.00    -0.230 A \\nATOM     10  C   LIG    1      170.851-107.214-113.859  0.00  0.00    +0.520 A \\nATOM     11  N   LIG    1      169.901-106.268-113.608  0.00  0.00    -0.680 NA\\nATOM     12  C   LIG    1      169.143-106.338-112.500  0.00  0.00    +0.640 A \\nATOM     13  N   LIG    1      169.285-107.319-111.616  0.00  0.00    -0.680 NA\\nATOM     14  O   LIG    1      168.300-105.478-112.302  0.00  0.00    -0.610 OA\\nATOM     15  C   LIG    1      170.186-108.280-111.797  0.00  0.00    +0.390 A \\nBRANCH  10  16\\nATOM     16  N   LIG    1      171.626-107.148-114.983  0.00  0.00    -0.830 N \\nATOM     17  H   LIG    1      171.416-107.704-115.751  0.00  0.00    +0.400 HD\\nATOM     18  H   LIG    1      172.387-106.547-115.014  0.00  0.00    +0.410 HD\\nENDBRANCH  10  16\\nENDBRANCH   3   6\\nBRANCH   1  19\\nATOM     19  C   LIG    1      171.183-112.367-107.479  0.00  0.00    +0.260 C \\nBRANCH  19  20\\nATOM     20  O   LIG    1      171.981-112.942-108.547  0.00  0.00    -0.350 OA\\nBRANCH  20  22\\nATOM     21  C   LIG    1      174.177-111.827-108.734  0.00  0.00    +0.150 C \\nATOM     22  C   LIG    1      173.308-112.998-108.354  0.00  0.00    +0.460 C \\nATOM     23  O   LIG    1      173.807-113.989-107.875  0.00  0.00    -0.510 OA\\nENDBRANCH  20  22\\nENDBRANCH  19  20\\nENDBRANCH   1  19\\nBRANCH   4  24\\nATOM     24  O   LIG    1      167.598-110.368-110.040  0.00  0.00    -0.330 OA\\nBRANCH  24  25\\nATOM     25  C   LIG    1      166.790-110.687-111.064  0.00  0.00    +0.450 C \\nATOM     26  O   LIG    1      166.074-111.658-110.989  0.00  0.00    -0.490 OA\\nATOM     27  C   LIG    1      166.776-109.835-112.307  0.00  0.00    +0.160 C \\nENDBRANCH  24  25\\nENDBRANCH   4  24\\nBRANCH   5  28\\nATOM     28  O   LIG    1      167.912-111.981-108.072  0.00  0.00    -0.320 OA\\nBRANCH  28  29\\nATOM     29  C   LIG    1      167.503-113.204-107.699  0.00  0.00    +0.460 C \\nATOM     30  O   LIG    1      167.572-113.535-106.539  0.00  0.00    -0.510 OA\\nATOM     31  C   LIG    1      166.958-114.162-108.725  0.00  0.00    +0.160 C \\nENDBRANCH  28  29\\nENDBRANCH   5  28\\nTORSDOF 9\\n')]), Row(random_seed=-1944351971, vina_result=[Row(affinity=-5.74657186271299, docked_pdbqt='\\nREMARK  Name = ZINC000044171185\\nREMARK                            x       y       z     vdW  Elec       q    Type\\nREMARK                         _______ _______ _______ _____ _____    ______ ____\\nROOT\\nATOM      1  C   LIG    1      171.546-109.786-112.188  0.00  0.00    +0.180 C \\nATOM      2  O   LIG    1      171.303-110.972-111.400  0.00  0.00    -0.340 OA\\nATOM      3  C   LIG    1      169.867-111.074-111.298  0.00  0.00    +0.430 C \\nATOM      4  C   LIG    1      169.383-109.623-111.081  0.00  0.00    +0.180 C \\nATOM      5  C   LIG    1      170.512-108.755-111.683  0.00  0.00    +0.190 C \\nENDROOT\\nBRANCH   3   6\\nATOM      6  N   LIG    1      169.494-111.914-110.156  0.00  0.00    -0.490 N \\nATOM      7  C   LIG    1      168.227-112.295-109.814  0.00  0.00    +0.380 A \\nATOM      8  N   LIG    1      168.258-113.038-108.748  0.00  0.00    -0.440 NA\\nATOM      9  C   LIG    1      169.545-113.181-108.337  0.00  0.00    -0.230 A \\nATOM     10  C   LIG    1      170.162-113.852-107.278  0.00  0.00    +0.520 A \\nATOM     11  N   LIG    1      171.520-113.778-107.166  0.00  0.00    -0.680 NA\\nATOM     12  C   LIG    1      172.240-113.073-108.055  0.00  0.00    +0.640 A \\nATOM     13  N   LIG    1      171.669-112.431-109.067  0.00  0.00    -0.680 NA\\nATOM     14  O   LIG    1      173.453-113.024-107.931  0.00  0.00    -0.610 OA\\nATOM     15  C   LIG    1      170.352-112.464-109.244  0.00  0.00    +0.390 A \\nBRANCH  10  16\\nATOM     16  N   LIG    1      169.422-114.566-106.376  0.00  0.00    -0.830 N \\nATOM     17  H   LIG    1      168.466-114.415-106.304  0.00  0.00    +0.400 HD\\nATOM     18  H   LIG    1      169.853-115.224-105.808  0.00  0.00    +0.410 HD\\nENDBRANCH  10  16\\nENDBRANCH   3   6\\nBRANCH   1  19\\nATOM     19  C   LIG    1      172.968-109.273-111.955  0.00  0.00    +0.260 C \\nBRANCH  19  20\\nATOM     20  O   LIG    1      173.575-110.007-110.858  0.00  0.00    -0.350 OA\\nBRANCH  20  22\\nATOM     21  C   LIG    1      174.683-109.811-108.660  0.00  0.00    +0.150 C \\nATOM     22  C   LIG    1      174.418-109.330-110.064  0.00  0.00    +0.460 C \\nATOM     23  O   LIG    1      174.964-108.333-110.473  0.00  0.00    -0.510 OA\\nENDBRANCH  20  22\\nENDBRANCH  19  20\\nENDBRANCH   1  19\\nBRANCH   4  24\\nATOM     24  O   LIG    1      168.134-109.393-111.786  0.00  0.00    -0.330 OA\\nBRANCH  24  25\\nATOM     25  C   LIG    1      167.082-109.000-111.050  0.00  0.00    +0.450 C \\nATOM     26  O   LIG    1      166.072-109.664-111.037  0.00  0.00    -0.490 OA\\nATOM     27  C   LIG    1      167.160-107.732-110.240  0.00  0.00    +0.160 C \\nENDBRANCH  24  25\\nENDBRANCH   4  24\\nBRANCH   5  28\\nATOM     28  O   LIG    1      170.007-107.952-112.782  0.00  0.00    -0.320 OA\\nBRANCH  28  29\\nATOM     29  C   LIG    1      169.924-106.627-112.581  0.00  0.00    +0.460 C \\nATOM     30  O   LIG    1      170.052-106.177-111.468  0.00  0.00    -0.510 OA\\nATOM     31  C   LIG    1      169.670-105.703-113.744  0.00  0.00    +0.160 C \\nENDBRANCH  28  29\\nENDBRANCH   5  28\\nTORSDOF 9\\n'), Row(affinity=-5.704655487019222, docked_pdbqt='\\nREMARK  Name = ZINC000044171185\\nREMARK                            x       y       z     vdW  Elec       q    Type\\nREMARK                         _______ _______ _______ _____ _____    ______ ____\\nROOT\\nATOM      1  C   LIG    1      170.456-113.174-110.704  0.00  0.00    +0.180 C \\nATOM      2  O   LIG    1      170.222-112.230-111.772  0.00  0.00    -0.340 OA\\nATOM      3  C   LIG    1      171.432-111.446-111.860  0.00  0.00    +0.430 C \\nATOM      4  C   LIG    1      171.849-111.200-110.394  0.00  0.00    +0.180 C \\nATOM      5  C   LIG    1      171.195-112.365-109.615  0.00  0.00    +0.190 C \\nENDROOT\\nBRANCH   3   6\\nATOM      6  N   LIG    1      171.168-110.174-112.538  0.00  0.00    -0.490 N \\nATOM      7  C   LIG    1      171.320-109.924-113.873  0.00  0.00    +0.380 A \\nATOM      8  N   LIG    1      170.998-108.693-114.135  0.00  0.00    -0.440 NA\\nATOM      9  C   LIG    1      170.619-108.073-112.987  0.00  0.00    -0.230 A \\nATOM     10  C   LIG    1      170.183-106.783-112.673  0.00  0.00    +0.520 A \\nATOM     11  N   LIG    1      169.880-106.499-111.373  0.00  0.00    -0.680 NA\\nATOM     12  C   LIG    1      170.001-107.442-110.423  0.00  0.00    +0.640 A \\nATOM     13  N   LIG    1      170.413-108.672-110.705  0.00  0.00    -0.680 NA\\nATOM     14  O   LIG    1      169.722-107.161-109.269  0.00  0.00    -0.610 OA\\nATOM     15  C   LIG    1      170.720-109.023-111.951  0.00  0.00    +0.390 A \\nBRANCH  10  16\\nATOM     16  N   LIG    1      170.063-105.829-113.645  0.00  0.00    -0.830 N \\nATOM     17  H   LIG    1      169.450-105.964-114.385  0.00  0.00    +0.400 HD\\nATOM     18  H   LIG    1      170.591-105.016-113.595  0.00  0.00    +0.410 HD\\nENDBRANCH  10  16\\nENDBRANCH   3   6\\nBRANCH   1  19\\nATOM     19  C   LIG    1      169.128-113.707-110.164  0.00  0.00    +0.260 C \\nBRANCH  19  20\\nATOM     20  O   LIG    1      168.369-112.615-109.580  0.00  0.00    -0.350 OA\\nBRANCH  20  22\\nATOM     21  C   LIG    1      166.718-114.095-108.493  0.00  0.00    +0.150 C \\nATOM     22  C   LIG    1      167.633-112.897-108.494  0.00  0.00    +0.460 C \\nATOM     23  O   LIG    1      167.704-112.191-107.517  0.00  0.00    -0.510 OA\\nENDBRANCH  20  22\\nENDBRANCH  19  20\\nENDBRANCH   1  19\\nBRANCH   4  24\\nATOM     24  O   LIG    1      173.295-111.249-110.262  0.00  0.00    -0.330 OA\\nBRANCH  24  25\\nATOM     25  C   LIG    1      173.914-110.108-109.920  0.00  0.00    +0.450 C \\nATOM     26  O   LIG    1      173.815-109.131-110.626  0.00  0.00    -0.490 OA\\nATOM     27  C   LIG    1      174.733-110.044-108.656  0.00  0.00    +0.160 C \\nENDBRANCH  24  25\\nENDBRANCH   4  24\\nBRANCH   5  28\\nATOM     28  O   LIG    1      172.208-113.179-108.968  0.00  0.00    -0.320 OA\\nBRANCH  28  29\\nATOM     29  C   LIG    1      172.062-113.404-107.653  0.00  0.00    +0.460 C \\nATOM     30  O   LIG    1      172.775-114.204-107.096  0.00  0.00    -0.510 OA\\nATOM     31  C   LIG    1      171.009-112.661-106.873  0.00  0.00    +0.160 C \\nENDBRANCH  28  29\\nENDBRANCH   5  28\\nTORSDOF 9\\n'), Row(affinity=-5.42784326557944, docked_pdbqt='\\nREMARK  Name = ZINC000044171185\\nREMARK                            x       y       z     vdW  Elec       q    Type\\nREMARK                         _______ _______ _______ _____ _____    ______ ____\\nROOT\\nATOM      1  C   LIG    1      171.819-111.507-109.117  0.00  0.00    +0.180 C \\nATOM      2  O   LIG    1      171.291-110.339-109.782  0.00  0.00    -0.340 OA\\nATOM      3  C   LIG    1      169.856-110.493-109.741  0.00  0.00    +0.430 C \\nATOM      4  C   LIG    1      169.613-111.991-110.028  0.00  0.00    +0.180 C \\nATOM      5  C   LIG    1      170.934-112.675-109.605  0.00  0.00    +0.190 C \\nENDROOT\\nBRANCH   3   6\\nATOM      6  N   LIG    1      169.224-109.665-110.772  0.00  0.00    -0.490 N \\nATOM      7  C   LIG    1      168.687-110.110-111.948  0.00  0.00    +0.380 A \\nATOM      8  N   LIG    1      168.211-109.109-112.627  0.00  0.00    -0.440 NA\\nATOM      9  C   LIG    1      168.410-107.959-111.932  0.00  0.00    -0.230 A \\nATOM     10  C   LIG    1      168.113-106.614-112.167  0.00  0.00    +0.520 A \\nATOM     11  N   LIG    1      168.471-105.696-111.222  0.00  0.00    -0.680 NA\\nATOM     12  C   LIG    1      169.094-106.084-110.096  0.00  0.00    +0.640 A \\nATOM     13  N   LIG    1      169.382-107.358-109.858  0.00  0.00    -0.680 NA\\nATOM     14  O   LIG    1      169.402-105.242-109.267  0.00  0.00    -0.610 OA\\nATOM     15  C   LIG    1      169.058-108.308-110.730  0.00  0.00    +0.390 A \\nBRANCH  10  16\\nATOM     16  N   LIG    1      167.480-106.227-113.315  0.00  0.00    -0.830 N \\nATOM     17  H   LIG    1      167.352-106.862-114.037  0.00  0.00    +0.400 HD\\nATOM     18  H   LIG    1      167.158-105.316-113.408  0.00  0.00    +0.410 HD\\nENDBRANCH  10  16\\nENDBRANCH   3   6\\nBRANCH   1  19\\nATOM     19  C   LIG    1      173.276-111.737-109.522  0.00  0.00    +0.260 C \\nBRANCH  19  20\\nATOM     20  O   LIG    1      173.771-110.574-110.235  0.00  0.00    -0.350 OA\\nBRANCH  20  22\\nATOM     21  C   LIG    1      174.999-108.432-110.187  0.00  0.00    +0.150 C \\nATOM     22  C   LIG    1      174.539-109.716-109.545  0.00  0.00    +0.460 C \\nATOM     23  O   LIG    1      174.861-109.974-108.410  0.00  0.00    -0.510 OA\\nENDBRANCH  20  22\\nENDBRANCH  19  20\\nENDBRANCH   1  19\\nBRANCH   4  24\\nATOM     24  O   LIG    1      168.505-112.488-109.231  0.00  0.00    -0.330 OA\\nBRANCH  24  25\\nATOM     25  C   LIG    1      167.611-113.274-109.852  0.00  0.00    +0.450 C \\nATOM     26  O   LIG    1      166.714-113.785-109.223  0.00  0.00    -0.490 OA\\nATOM     27  C   LIG    1      167.726-113.521-111.335  0.00  0.00    +0.160 C \\nENDBRANCH  24  25\\nENDBRANCH   4  24\\nBRANCH   5  28\\nATOM     28  O   LIG    1      170.695-113.624-108.532  0.00  0.00    -0.320 OA\\nBRANCH  28  29\\nATOM     29  C   LIG    1      171.188-113.313-107.323  0.00  0.00    +0.460 C \\nATOM     30  O   LIG    1      172.185-113.864-106.918  0.00  0.00    -0.510 OA\\nATOM     31  C   LIG    1      170.499-112.280-106.470  0.00  0.00    +0.160 C \\nENDBRANCH  28  29\\nENDBRANCH   5  28\\nTORSDOF 9\\n'), Row(affinity=-5.385633326842211, docked_pdbqt='\\nREMARK  Name = ZINC000044171185\\nREMARK                            x       y       z     vdW  Elec       q    Type\\nREMARK                         _______ _______ _______ _____ _____    ______ ____\\nROOT\\nATOM      1  C   LIG    1      170.276-111.276-108.050  0.00  0.00    +0.180 C \\nATOM      2  O   LIG    1      171.002-110.463-108.999  0.00  0.00    -0.340 OA\\nATOM      3  C   LIG    1      169.990-109.832-109.812  0.00  0.00    +0.430 C \\nATOM      4  C   LIG    1      168.935-110.933-110.054  0.00  0.00    +0.180 C \\nATOM      5  C   LIG    1      169.125-111.905-108.866  0.00  0.00    +0.190 C \\nENDROOT\\nBRANCH   3   6\\nATOM      6  N   LIG    1      170.564-109.384-111.084  0.00  0.00    -0.490 N \\nATOM      7  C   LIG    1      171.571-109.997-111.776  0.00  0.00    +0.380 A \\nATOM      8  N   LIG    1      171.834-109.333-112.862  0.00  0.00    -0.440 NA\\nATOM      9  C   LIG    1      171.014-108.253-112.938  0.00  0.00    -0.230 A \\nATOM     10  C   LIG    1      170.851-107.214-113.859  0.00  0.00    +0.520 A \\nATOM     11  N   LIG    1      169.901-106.268-113.608  0.00  0.00    -0.680 NA\\nATOM     12  C   LIG    1      169.143-106.338-112.500  0.00  0.00    +0.640 A \\nATOM     13  N   LIG    1      169.285-107.319-111.616  0.00  0.00    -0.680 NA\\nATOM     14  O   LIG    1      168.300-105.478-112.302  0.00  0.00    -0.610 OA\\nATOM     15  C   LIG    1      170.186-108.280-111.797  0.00  0.00    +0.390 A \\nBRANCH  10  16\\nATOM     16  N   LIG    1      171.626-107.148-114.983  0.00  0.00    -0.830 N \\nATOM     17  H   LIG    1      171.416-107.704-115.751  0.00  0.00    +0.400 HD\\nATOM     18  H   LIG    1      172.387-106.547-115.014  0.00  0.00    +0.410 HD\\nENDBRANCH  10  16\\nENDBRANCH   3   6\\nBRANCH   1  19\\nATOM     19  C   LIG    1      171.183-112.367-107.479  0.00  0.00    +0.260 C \\nBRANCH  19  20\\nATOM     20  O   LIG    1      171.981-112.942-108.547  0.00  0.00    -0.350 OA\\nBRANCH  20  22\\nATOM     21  C   LIG    1      174.177-111.827-108.734  0.00  0.00    +0.150 C \\nATOM     22  C   LIG    1      173.308-112.998-108.354  0.00  0.00    +0.460 C \\nATOM     23  O   LIG    1      173.807-113.989-107.875  0.00  0.00    -0.510 OA\\nENDBRANCH  20  22\\nENDBRANCH  19  20\\nENDBRANCH   1  19\\nBRANCH   4  24\\nATOM     24  O   LIG    1      167.598-110.368-110.040  0.00  0.00    -0.330 OA\\nBRANCH  24  25\\nATOM     25  C   LIG    1      166.790-110.687-111.064  0.00  0.00    +0.450 C \\nATOM     26  O   LIG    1      166.074-111.658-110.989  0.00  0.00    -0.490 OA\\nATOM     27  C   LIG    1      166.776-109.835-112.307  0.00  0.00    +0.160 C \\nENDBRANCH  24  25\\nENDBRANCH   4  24\\nBRANCH   5  28\\nATOM     28  O   LIG    1      167.912-111.981-108.072  0.00  0.00    -0.320 OA\\nBRANCH  28  29\\nATOM     29  C   LIG    1      167.503-113.204-107.699  0.00  0.00    +0.460 C \\nATOM     30  O   LIG    1      167.572-113.535-106.539  0.00  0.00    -0.510 OA\\nATOM     31  C   LIG    1      166.958-114.162-108.725  0.00  0.00    +0.160 C \\nENDBRANCH  28  29\\nENDBRANCH   5  28\\nTORSDOF 9\\n')])]),\n",
       " Row(vina_results=[Row(random_seed=-1944351971, vina_result=[Row(affinity=-5.85175916470293, docked_pdbqt='\\nREMARK  Name = ZINC000009255826\\nREMARK                            x       y       z     vdW  Elec       q    Type\\nREMARK                         _______ _______ _______ _____ _____    ______ ____\\nROOT\\nATOM      1  C   LIG    1      173.251-109.544-109.217  0.00  0.00    +0.100 C \\nENDROOT\\nBRANCH   1   4\\nATOM      2  C   LIG    1      172.865-109.213-112.056  0.00  0.00    +0.090 C \\nATOM      3  C   LIG    1      171.777-108.812-111.093  0.00  0.00    +0.200 A \\nATOM      4  C   LIG    1      171.963-108.970-109.751  0.00  0.00    -0.380 A \\nATOM      5  C   LIG    1      170.933-108.588-108.872  0.00  0.00    +0.520 A \\nATOM      6  N   LIG    1      169.796-108.077-109.390  0.00  0.00    -0.700 NA\\nATOM      7  C   LIG    1      169.667-107.943-110.738  0.00  0.00    +0.590 A \\nATOM      8  O   LIG    1      171.066-108.714-107.666  0.00  0.00    -0.630 OA\\nATOM      9  N   LIG    1      170.639-108.298-111.553  0.00  0.00    -0.670 NA\\nBRANCH   7  10\\nATOM     10  N   LIG    1      168.510-107.424-111.254  0.00  0.00    -0.600 N \\nATOM     11  C   LIG    1      167.302-108.253-111.389  0.00  0.00    +0.260 C \\nATOM     12  C   LIG    1      166.126-107.500-110.757  0.00  0.00    +0.200 C \\nATOM     13  O   LIG    1      166.058-106.184-111.311  0.00  0.00    -0.390 OA\\nATOM     14  C   LIG    1      167.206-105.376-111.044  0.00  0.00    +0.200 C \\nATOM     15  C   LIG    1      168.436-106.019-111.685  0.00  0.00    +0.270 C \\nENDBRANCH   7  10\\nENDBRANCH   1   4\\nBRANCH   1  16\\nATOM     16  C   LIG    1      172.973-110.902-108.568  0.00  0.00    +0.040 C \\nBRANCH  16  17\\nATOM     17  C   LIG    1      172.492-111.871-109.617  0.00  0.00    +0.520 C \\nATOM     18  N   LIG    1      171.285-112.457-109.490  0.00  0.00    -0.620 N \\nATOM     19  C   LIG    1      170.425-112.155-108.338  0.00  0.00    +0.270 C \\nATOM     20  C   LIG    1      169.062-111.675-108.854  0.00  0.00    +0.300 C \\nATOM     21  N   LIG    1      168.583-112.627-109.867  0.00  0.00    -0.580 N \\nATOM     22  C   LIG    1      169.443-112.928-111.020  0.00  0.00    +0.290 C \\nATOM     23  C   LIG    1      170.803-113.404-110.505  0.00  0.00    +0.280 C \\nATOM     24  O   LIG    1      173.192-112.124-110.575  0.00  0.00    -0.540 OA\\nBRANCH  21  25\\nATOM     25  C   LIG    1      167.342-113.227-109.737  0.00  0.00    +0.570 A \\nATOM     26  N   LIG    1      167.099-113.986-108.679  0.00  0.00    -0.570 NA\\nATOM     27  C   LIG    1      165.924-114.575-108.526  0.00  0.00    +0.360 A \\nATOM     28  C   LIG    1      164.943-114.387-109.487  0.00  0.00    -0.160 A \\nATOM     29  C   LIG    1      165.232-113.586-110.581  0.00  0.00    +0.360 A \\nATOM     30  N   LIG    1      166.426-113.023-110.671  0.00  0.00    -0.570 NA\\nENDBRANCH  21  25\\nENDBRANCH  16  17\\nENDBRANCH   1  16\\nTORSDOF 5\\n'), Row(affinity=-5.543412406180849, docked_pdbqt='\\nREMARK  Name = ZINC000009255826\\nREMARK                            x       y       z     vdW  Elec       q    Type\\nREMARK                         _______ _______ _______ _____ _____    ______ ____\\nROOT\\nATOM      1  C   LIG    1      168.393-113.897-108.980  0.00  0.00    +0.100 C \\nENDROOT\\nBRANCH   1   4\\nATOM      2  C   LIG    1      169.909-114.264-111.405  0.00  0.00    +0.090 C \\nATOM      3  C   LIG    1      170.399-113.314-110.343  0.00  0.00    +0.200 A \\nATOM      4  C   LIG    1      169.679-113.142-109.197  0.00  0.00    -0.380 A \\nATOM      5  C   LIG    1      170.158-112.250-108.220  0.00  0.00    +0.520 A \\nATOM      6  N   LIG    1      171.315-111.594-108.453  0.00  0.00    -0.700 NA\\nATOM      7  C   LIG    1      171.990-111.805-109.615  0.00  0.00    +0.590 A \\nATOM      8  O   LIG    1      169.540-112.074-107.183  0.00  0.00    -0.630 OA\\nATOM      9  N   LIG    1      171.537-112.647-110.522  0.00  0.00    -0.670 NA\\nBRANCH   7  10\\nATOM     10  N   LIG    1      173.162-111.135-109.842  0.00  0.00    -0.600 N \\nATOM     11  C   LIG    1      173.285-110.179-110.954  0.00  0.00    +0.260 C \\nATOM     12  C   LIG    1      173.858-108.869-110.403  0.00  0.00    +0.200 C \\nATOM     13  O   LIG    1      175.055-109.149-109.672  0.00  0.00    -0.390 OA\\nATOM     14  C   LIG    1      174.859-109.983-108.528  0.00  0.00    +0.200 C \\nATOM     15  C   LIG    1      174.335-111.346-108.979  0.00  0.00    +0.270 C \\nENDBRANCH   7  10\\nENDBRANCH   1   4\\nBRANCH   1  16\\nATOM     16  C   LIG    1      167.212-112.927-109.063  0.00  0.00    +0.040 C \\nBRANCH  16  17\\nATOM     17  C   LIG    1      166.921-112.613-110.508  0.00  0.00    +0.520 C \\nATOM     18  N   LIG    1      167.159-111.377-110.989  0.00  0.00    -0.620 N \\nATOM     19  C   LIG    1      167.708-110.328-110.119  0.00  0.00    +0.270 C \\nATOM     20  C   LIG    1      168.985-109.774-110.763  0.00  0.00    +0.300 C \\nATOM     21  N   LIG    1      168.701-109.452-112.168  0.00  0.00    -0.580 N \\nATOM     22  C   LIG    1      168.152-110.501-113.039  0.00  0.00    +0.290 C \\nATOM     23  C   LIG    1      166.880-111.056-112.396  0.00  0.00    +0.280 C \\nATOM     24  O   LIG    1      166.473-113.472-111.237  0.00  0.00    -0.540 OA\\nBRANCH  21  25\\nATOM     25  C   LIG    1      168.947-108.183-112.663  0.00  0.00    +0.570 A \\nATOM     26  N   LIG    1      168.187-107.175-112.262  0.00  0.00    -0.570 NA\\nATOM     27  C   LIG    1      168.395-105.949-112.716  0.00  0.00    +0.360 A \\nATOM     28  C   LIG    1      169.423-105.728-113.620  0.00  0.00    -0.160 A \\nATOM     29  C   LIG    1      170.198-106.807-114.018  0.00  0.00    +0.360 A \\nATOM     30  N   LIG    1      169.939-108.006-113.522  0.00  0.00    -0.570 NA\\nENDBRANCH  21  25\\nENDBRANCH  16  17\\nENDBRANCH   1  16\\nTORSDOF 5\\n'), Row(affinity=-5.39283184280729, docked_pdbqt='\\nREMARK  Name = ZINC000009255826\\nREMARK                            x       y       z     vdW  Elec       q    Type\\nREMARK                         _______ _______ _______ _____ _____    ______ ____\\nROOT\\nATOM      1  C   LIG    1      168.401-114.235-108.935  0.00  0.00    +0.100 C \\nENDROOT\\nBRANCH   1   4\\nATOM      2  C   LIG    1      169.722-112.800-106.812  0.00  0.00    +0.090 C \\nATOM      3  C   LIG    1      170.297-112.788-108.205  0.00  0.00    +0.200 A \\nATOM      4  C   LIG    1      169.669-113.468-109.207  0.00  0.00    -0.380 A \\nATOM      5  C   LIG    1      170.226-113.441-110.499  0.00  0.00    +0.520 A \\nATOM      6  N   LIG    1      171.362-112.742-110.701  0.00  0.00    -0.700 NA\\nATOM      7  C   LIG    1      171.945-112.083-109.663  0.00  0.00    +0.590 A \\nATOM      8  O   LIG    1      169.689-114.037-111.419  0.00  0.00    -0.630 OA\\nATOM      9  N   LIG    1      171.414-112.109-108.457  0.00  0.00    -0.670 NA\\nBRANCH   7  10\\nATOM     10  N   LIG    1      173.098-111.376-109.877  0.00  0.00    -0.600 N \\nATOM     11  C   LIG    1      173.176-110.358-110.936  0.00  0.00    +0.260 C \\nATOM     12  C   LIG    1      173.733-109.067-110.327  0.00  0.00    +0.200 C \\nATOM     13  O   LIG    1      174.950-109.360-109.636  0.00  0.00    -0.390 OA\\nATOM     14  C   LIG    1      174.797-110.258-108.535  0.00  0.00    +0.200 C \\nATOM     15  C   LIG    1      174.292-111.607-109.050  0.00  0.00    +0.270 C \\nENDBRANCH   7  10\\nENDBRANCH   1   4\\nBRANCH   1  16\\nATOM     16  C   LIG    1      167.212-113.272-108.935  0.00  0.00    +0.040 C \\nBRANCH  16  17\\nATOM     17  C   LIG    1      166.877-112.888-110.354  0.00  0.00    +0.520 C \\nATOM     18  N   LIG    1      167.082-111.625-110.777  0.00  0.00    -0.620 N \\nATOM     19  C   LIG    1      167.639-110.613-109.869  0.00  0.00    +0.270 C \\nATOM     20  C   LIG    1      168.889-110.007-110.518  0.00  0.00    +0.300 C \\nATOM     21  N   LIG    1      168.561-109.618-111.896  0.00  0.00    -0.580 N \\nATOM     22  C   LIG    1      168.004-110.630-112.805  0.00  0.00    +0.290 C \\nATOM     23  C   LIG    1      166.759-111.238-112.157  0.00  0.00    +0.280 C \\nATOM     24  O   LIG    1      166.421-113.716-111.114  0.00  0.00    -0.540 OA\\nBRANCH  21  25\\nATOM     25  C   LIG    1      168.774-108.321-112.331  0.00  0.00    +0.570 A \\nATOM     26  N   LIG    1      167.936-107.367-111.954  0.00  0.00    -0.570 NA\\nATOM     27  C   LIG    1      168.111-106.117-112.353  0.00  0.00    +0.360 A \\nATOM     28  C   LIG    1      169.186-105.813-113.173  0.00  0.00    -0.160 A \\nATOM     29  C   LIG    1      170.043-106.836-113.548  0.00  0.00    +0.360 A \\nATOM     30  N   LIG    1      169.814-108.063-113.111  0.00  0.00    -0.570 NA\\nENDBRANCH  21  25\\nENDBRANCH  16  17\\nENDBRANCH   1  16\\nTORSDOF 5\\n'), Row(affinity=-5.369714818302058, docked_pdbqt='\\nREMARK  Name = ZINC000009255826\\nREMARK                            x       y       z     vdW  Elec       q    Type\\nREMARK                         _______ _______ _______ _____ _____    ______ ____\\nROOT\\nATOM      1  C   LIG    1      172.380-110.766-108.693  0.00  0.00    +0.100 C \\nENDROOT\\nBRANCH   1   4\\nATOM      2  C   LIG    1      172.458-110.328-111.542  0.00  0.00    +0.090 C \\nATOM      3  C   LIG    1      171.669-109.399-110.656  0.00  0.00    +0.200 A \\nATOM      4  C   LIG    1      171.635-109.609-109.308  0.00  0.00    -0.380 A \\nATOM      5  C   LIG    1      170.892-108.728-108.501  0.00  0.00    +0.520 A \\nATOM      6  N   LIG    1      170.240-107.704-109.091  0.00  0.00    -0.700 NA\\nATOM      7  C   LIG    1      170.310-107.544-110.440  0.00  0.00    +0.590 A \\nATOM      8  O   LIG    1      170.841-108.885-107.292  0.00  0.00    -0.630 OA\\nATOM      9  N   LIG    1      171.012-108.371-111.188  0.00  0.00    -0.670 NA\\nBRANCH   7  10\\nATOM     10  N   LIG    1      169.644-106.503-111.030  0.00  0.00    -0.600 N \\nATOM     11  C   LIG    1      169.798-106.223-112.466  0.00  0.00    +0.260 C \\nATOM     12  C   LIG    1      168.402-106.097-113.086  0.00  0.00    +0.200 C \\nATOM     13  O   LIG    1      167.636-105.154-112.333  0.00  0.00    -0.390 OA\\nATOM     14  C   LIG    1      167.409-105.534-110.974  0.00  0.00    +0.200 C \\nATOM     15  C   LIG    1      168.750-105.635-110.247  0.00  0.00    +0.270 C \\nENDBRANCH   7  10\\nENDBRANCH   1   4\\nBRANCH   1  16\\nATOM     16  C   LIG    1      171.392-111.686-107.974  0.00  0.00    +0.040 C \\nBRANCH  16  17\\nATOM     17  C   LIG    1      171.151-112.917-108.809  0.00  0.00    +0.520 C \\nATOM     18  N   LIG    1      170.005-113.044-109.507  0.00  0.00    -0.620 N \\nATOM     19  C   LIG    1      168.984-111.988-109.467  0.00  0.00    +0.270 C \\nATOM     20  C   LIG    1      168.677-111.549-110.904  0.00  0.00    +0.300 C \\nATOM     21  N   LIG    1      168.427-112.746-111.719  0.00  0.00    -0.580 N \\nATOM     22  C   LIG    1      169.449-113.802-111.758  0.00  0.00    +0.290 C \\nATOM     23  C   LIG    1      169.757-114.239-110.325  0.00  0.00    +0.280 C \\nATOM     24  O   LIG    1      171.989-113.792-108.853  0.00  0.00    -0.540 OA\\nBRANCH  21  25\\nATOM     25  C   LIG    1      167.251-112.876-112.436  0.00  0.00    +0.570 A \\nATOM     26  N   LIG    1      166.123-112.417-111.917  0.00  0.00    -0.570 NA\\nATOM     27  C   LIG    1      164.980-112.526-112.576  0.00  0.00    +0.360 A \\nATOM     28  C   LIG    1      164.976-113.129-113.825  0.00  0.00    -0.160 A \\nATOM     29  C   LIG    1      166.175-113.598-114.338  0.00  0.00    +0.360 A \\nATOM     30  N   LIG    1      167.282-113.453-113.628  0.00  0.00    -0.570 NA\\nENDBRANCH  21  25\\nENDBRANCH  16  17\\nENDBRANCH   1  16\\nTORSDOF 5\\n')]), Row(random_seed=-1944351971, vina_result=[Row(affinity=-5.85175916470293, docked_pdbqt='\\nREMARK  Name = ZINC000009255826\\nREMARK                            x       y       z     vdW  Elec       q    Type\\nREMARK                         _______ _______ _______ _____ _____    ______ ____\\nROOT\\nATOM      1  C   LIG    1      173.251-109.544-109.217  0.00  0.00    +0.100 C \\nENDROOT\\nBRANCH   1   4\\nATOM      2  C   LIG    1      172.865-109.213-112.056  0.00  0.00    +0.090 C \\nATOM      3  C   LIG    1      171.777-108.812-111.093  0.00  0.00    +0.200 A \\nATOM      4  C   LIG    1      171.963-108.970-109.751  0.00  0.00    -0.380 A \\nATOM      5  C   LIG    1      170.933-108.588-108.872  0.00  0.00    +0.520 A \\nATOM      6  N   LIG    1      169.796-108.077-109.390  0.00  0.00    -0.700 NA\\nATOM      7  C   LIG    1      169.667-107.943-110.738  0.00  0.00    +0.590 A \\nATOM      8  O   LIG    1      171.066-108.714-107.666  0.00  0.00    -0.630 OA\\nATOM      9  N   LIG    1      170.639-108.298-111.553  0.00  0.00    -0.670 NA\\nBRANCH   7  10\\nATOM     10  N   LIG    1      168.510-107.424-111.254  0.00  0.00    -0.600 N \\nATOM     11  C   LIG    1      167.302-108.253-111.389  0.00  0.00    +0.260 C \\nATOM     12  C   LIG    1      166.126-107.500-110.757  0.00  0.00    +0.200 C \\nATOM     13  O   LIG    1      166.058-106.184-111.311  0.00  0.00    -0.390 OA\\nATOM     14  C   LIG    1      167.206-105.376-111.044  0.00  0.00    +0.200 C \\nATOM     15  C   LIG    1      168.436-106.019-111.685  0.00  0.00    +0.270 C \\nENDBRANCH   7  10\\nENDBRANCH   1   4\\nBRANCH   1  16\\nATOM     16  C   LIG    1      172.973-110.902-108.568  0.00  0.00    +0.040 C \\nBRANCH  16  17\\nATOM     17  C   LIG    1      172.492-111.871-109.617  0.00  0.00    +0.520 C \\nATOM     18  N   LIG    1      171.285-112.457-109.490  0.00  0.00    -0.620 N \\nATOM     19  C   LIG    1      170.425-112.155-108.338  0.00  0.00    +0.270 C \\nATOM     20  C   LIG    1      169.062-111.675-108.854  0.00  0.00    +0.300 C \\nATOM     21  N   LIG    1      168.583-112.627-109.867  0.00  0.00    -0.580 N \\nATOM     22  C   LIG    1      169.443-112.928-111.020  0.00  0.00    +0.290 C \\nATOM     23  C   LIG    1      170.803-113.404-110.505  0.00  0.00    +0.280 C \\nATOM     24  O   LIG    1      173.192-112.124-110.575  0.00  0.00    -0.540 OA\\nBRANCH  21  25\\nATOM     25  C   LIG    1      167.342-113.227-109.737  0.00  0.00    +0.570 A \\nATOM     26  N   LIG    1      167.099-113.986-108.679  0.00  0.00    -0.570 NA\\nATOM     27  C   LIG    1      165.924-114.575-108.526  0.00  0.00    +0.360 A \\nATOM     28  C   LIG    1      164.943-114.387-109.487  0.00  0.00    -0.160 A \\nATOM     29  C   LIG    1      165.232-113.586-110.581  0.00  0.00    +0.360 A \\nATOM     30  N   LIG    1      166.426-113.023-110.671  0.00  0.00    -0.570 NA\\nENDBRANCH  21  25\\nENDBRANCH  16  17\\nENDBRANCH   1  16\\nTORSDOF 5\\n'), Row(affinity=-5.543412406180849, docked_pdbqt='\\nREMARK  Name = ZINC000009255826\\nREMARK                            x       y       z     vdW  Elec       q    Type\\nREMARK                         _______ _______ _______ _____ _____    ______ ____\\nROOT\\nATOM      1  C   LIG    1      168.393-113.897-108.980  0.00  0.00    +0.100 C \\nENDROOT\\nBRANCH   1   4\\nATOM      2  C   LIG    1      169.909-114.264-111.405  0.00  0.00    +0.090 C \\nATOM      3  C   LIG    1      170.399-113.314-110.343  0.00  0.00    +0.200 A \\nATOM      4  C   LIG    1      169.679-113.142-109.197  0.00  0.00    -0.380 A \\nATOM      5  C   LIG    1      170.158-112.250-108.220  0.00  0.00    +0.520 A \\nATOM      6  N   LIG    1      171.315-111.594-108.453  0.00  0.00    -0.700 NA\\nATOM      7  C   LIG    1      171.990-111.805-109.615  0.00  0.00    +0.590 A \\nATOM      8  O   LIG    1      169.540-112.074-107.183  0.00  0.00    -0.630 OA\\nATOM      9  N   LIG    1      171.537-112.647-110.522  0.00  0.00    -0.670 NA\\nBRANCH   7  10\\nATOM     10  N   LIG    1      173.162-111.135-109.842  0.00  0.00    -0.600 N \\nATOM     11  C   LIG    1      173.285-110.179-110.954  0.00  0.00    +0.260 C \\nATOM     12  C   LIG    1      173.858-108.869-110.403  0.00  0.00    +0.200 C \\nATOM     13  O   LIG    1      175.055-109.149-109.672  0.00  0.00    -0.390 OA\\nATOM     14  C   LIG    1      174.859-109.983-108.528  0.00  0.00    +0.200 C \\nATOM     15  C   LIG    1      174.335-111.346-108.979  0.00  0.00    +0.270 C \\nENDBRANCH   7  10\\nENDBRANCH   1   4\\nBRANCH   1  16\\nATOM     16  C   LIG    1      167.212-112.927-109.063  0.00  0.00    +0.040 C \\nBRANCH  16  17\\nATOM     17  C   LIG    1      166.921-112.613-110.508  0.00  0.00    +0.520 C \\nATOM     18  N   LIG    1      167.159-111.377-110.989  0.00  0.00    -0.620 N \\nATOM     19  C   LIG    1      167.708-110.328-110.119  0.00  0.00    +0.270 C \\nATOM     20  C   LIG    1      168.985-109.774-110.763  0.00  0.00    +0.300 C \\nATOM     21  N   LIG    1      168.701-109.452-112.168  0.00  0.00    -0.580 N \\nATOM     22  C   LIG    1      168.152-110.501-113.039  0.00  0.00    +0.290 C \\nATOM     23  C   LIG    1      166.880-111.056-112.396  0.00  0.00    +0.280 C \\nATOM     24  O   LIG    1      166.473-113.472-111.237  0.00  0.00    -0.540 OA\\nBRANCH  21  25\\nATOM     25  C   LIG    1      168.947-108.183-112.663  0.00  0.00    +0.570 A \\nATOM     26  N   LIG    1      168.187-107.175-112.262  0.00  0.00    -0.570 NA\\nATOM     27  C   LIG    1      168.395-105.949-112.716  0.00  0.00    +0.360 A \\nATOM     28  C   LIG    1      169.423-105.728-113.620  0.00  0.00    -0.160 A \\nATOM     29  C   LIG    1      170.198-106.807-114.018  0.00  0.00    +0.360 A \\nATOM     30  N   LIG    1      169.939-108.006-113.522  0.00  0.00    -0.570 NA\\nENDBRANCH  21  25\\nENDBRANCH  16  17\\nENDBRANCH   1  16\\nTORSDOF 5\\n'), Row(affinity=-5.39283184280729, docked_pdbqt='\\nREMARK  Name = ZINC000009255826\\nREMARK                            x       y       z     vdW  Elec       q    Type\\nREMARK                         _______ _______ _______ _____ _____    ______ ____\\nROOT\\nATOM      1  C   LIG    1      168.401-114.235-108.935  0.00  0.00    +0.100 C \\nENDROOT\\nBRANCH   1   4\\nATOM      2  C   LIG    1      169.722-112.800-106.812  0.00  0.00    +0.090 C \\nATOM      3  C   LIG    1      170.297-112.788-108.205  0.00  0.00    +0.200 A \\nATOM      4  C   LIG    1      169.669-113.468-109.207  0.00  0.00    -0.380 A \\nATOM      5  C   LIG    1      170.226-113.441-110.499  0.00  0.00    +0.520 A \\nATOM      6  N   LIG    1      171.362-112.742-110.701  0.00  0.00    -0.700 NA\\nATOM      7  C   LIG    1      171.945-112.083-109.663  0.00  0.00    +0.590 A \\nATOM      8  O   LIG    1      169.689-114.037-111.419  0.00  0.00    -0.630 OA\\nATOM      9  N   LIG    1      171.414-112.109-108.457  0.00  0.00    -0.670 NA\\nBRANCH   7  10\\nATOM     10  N   LIG    1      173.098-111.376-109.877  0.00  0.00    -0.600 N \\nATOM     11  C   LIG    1      173.176-110.358-110.936  0.00  0.00    +0.260 C \\nATOM     12  C   LIG    1      173.733-109.067-110.327  0.00  0.00    +0.200 C \\nATOM     13  O   LIG    1      174.950-109.360-109.636  0.00  0.00    -0.390 OA\\nATOM     14  C   LIG    1      174.797-110.258-108.535  0.00  0.00    +0.200 C \\nATOM     15  C   LIG    1      174.292-111.607-109.050  0.00  0.00    +0.270 C \\nENDBRANCH   7  10\\nENDBRANCH   1   4\\nBRANCH   1  16\\nATOM     16  C   LIG    1      167.212-113.272-108.935  0.00  0.00    +0.040 C \\nBRANCH  16  17\\nATOM     17  C   LIG    1      166.877-112.888-110.354  0.00  0.00    +0.520 C \\nATOM     18  N   LIG    1      167.082-111.625-110.777  0.00  0.00    -0.620 N \\nATOM     19  C   LIG    1      167.639-110.613-109.869  0.00  0.00    +0.270 C \\nATOM     20  C   LIG    1      168.889-110.007-110.518  0.00  0.00    +0.300 C \\nATOM     21  N   LIG    1      168.561-109.618-111.896  0.00  0.00    -0.580 N \\nATOM     22  C   LIG    1      168.004-110.630-112.805  0.00  0.00    +0.290 C \\nATOM     23  C   LIG    1      166.759-111.238-112.157  0.00  0.00    +0.280 C \\nATOM     24  O   LIG    1      166.421-113.716-111.114  0.00  0.00    -0.540 OA\\nBRANCH  21  25\\nATOM     25  C   LIG    1      168.774-108.321-112.331  0.00  0.00    +0.570 A \\nATOM     26  N   LIG    1      167.936-107.367-111.954  0.00  0.00    -0.570 NA\\nATOM     27  C   LIG    1      168.111-106.117-112.353  0.00  0.00    +0.360 A \\nATOM     28  C   LIG    1      169.186-105.813-113.173  0.00  0.00    -0.160 A \\nATOM     29  C   LIG    1      170.043-106.836-113.548  0.00  0.00    +0.360 A \\nATOM     30  N   LIG    1      169.814-108.063-113.111  0.00  0.00    -0.570 NA\\nENDBRANCH  21  25\\nENDBRANCH  16  17\\nENDBRANCH   1  16\\nTORSDOF 5\\n'), Row(affinity=-5.369714818302058, docked_pdbqt='\\nREMARK  Name = ZINC000009255826\\nREMARK                            x       y       z     vdW  Elec       q    Type\\nREMARK                         _______ _______ _______ _____ _____    ______ ____\\nROOT\\nATOM      1  C   LIG    1      172.380-110.766-108.693  0.00  0.00    +0.100 C \\nENDROOT\\nBRANCH   1   4\\nATOM      2  C   LIG    1      172.458-110.328-111.542  0.00  0.00    +0.090 C \\nATOM      3  C   LIG    1      171.669-109.399-110.656  0.00  0.00    +0.200 A \\nATOM      4  C   LIG    1      171.635-109.609-109.308  0.00  0.00    -0.380 A \\nATOM      5  C   LIG    1      170.892-108.728-108.501  0.00  0.00    +0.520 A \\nATOM      6  N   LIG    1      170.240-107.704-109.091  0.00  0.00    -0.700 NA\\nATOM      7  C   LIG    1      170.310-107.544-110.440  0.00  0.00    +0.590 A \\nATOM      8  O   LIG    1      170.841-108.885-107.292  0.00  0.00    -0.630 OA\\nATOM      9  N   LIG    1      171.012-108.371-111.188  0.00  0.00    -0.670 NA\\nBRANCH   7  10\\nATOM     10  N   LIG    1      169.644-106.503-111.030  0.00  0.00    -0.600 N \\nATOM     11  C   LIG    1      169.798-106.223-112.466  0.00  0.00    +0.260 C \\nATOM     12  C   LIG    1      168.402-106.097-113.086  0.00  0.00    +0.200 C \\nATOM     13  O   LIG    1      167.636-105.154-112.333  0.00  0.00    -0.390 OA\\nATOM     14  C   LIG    1      167.409-105.534-110.974  0.00  0.00    +0.200 C \\nATOM     15  C   LIG    1      168.750-105.635-110.247  0.00  0.00    +0.270 C \\nENDBRANCH   7  10\\nENDBRANCH   1   4\\nBRANCH   1  16\\nATOM     16  C   LIG    1      171.392-111.686-107.974  0.00  0.00    +0.040 C \\nBRANCH  16  17\\nATOM     17  C   LIG    1      171.151-112.917-108.809  0.00  0.00    +0.520 C \\nATOM     18  N   LIG    1      170.005-113.044-109.507  0.00  0.00    -0.620 N \\nATOM     19  C   LIG    1      168.984-111.988-109.467  0.00  0.00    +0.270 C \\nATOM     20  C   LIG    1      168.677-111.549-110.904  0.00  0.00    +0.300 C \\nATOM     21  N   LIG    1      168.427-112.746-111.719  0.00  0.00    -0.580 N \\nATOM     22  C   LIG    1      169.449-113.802-111.758  0.00  0.00    +0.290 C \\nATOM     23  C   LIG    1      169.757-114.239-110.325  0.00  0.00    +0.280 C \\nATOM     24  O   LIG    1      171.989-113.792-108.853  0.00  0.00    -0.540 OA\\nBRANCH  21  25\\nATOM     25  C   LIG    1      167.251-112.876-112.436  0.00  0.00    +0.570 A \\nATOM     26  N   LIG    1      166.123-112.417-111.917  0.00  0.00    -0.570 NA\\nATOM     27  C   LIG    1      164.980-112.526-112.576  0.00  0.00    +0.360 A \\nATOM     28  C   LIG    1      164.976-113.129-113.825  0.00  0.00    -0.160 A \\nATOM     29  C   LIG    1      166.175-113.598-114.338  0.00  0.00    +0.360 A \\nATOM     30  N   LIG    1      167.282-113.453-113.628  0.00  0.00    -0.570 NA\\nENDBRANCH  21  25\\nENDBRANCH  16  17\\nENDBRANCH   1  16\\nTORSDOF 5\\n')])])]"
      ]
     },
     "execution_count": 6,
     "metadata": {},
     "output_type": "execute_result"
    }
   ],
   "source": [
    "vina_results"
   ]
  },
  {
   "cell_type": "markdown",
   "metadata": {},
   "source": [
    "### 提取第一个小分子（数据库中第一行）所有model中最好的model"
   ]
  },
  {
   "cell_type": "code",
   "execution_count": 7,
   "metadata": {},
   "outputs": [],
   "source": [
    "# 0的意思为数据库第一行\n",
    "unwrapped_results = vina_results[0]['vina_results']\n",
    "\n",
    "lowest_affinity = 0.0\n",
    "best_docked_model = None\n",
    "for row in unwrapped_results:\n",
    "    for result_row in row.vina_result:\n",
    "        if result_row.affinity < lowest_affinity:\n",
    "            lowest_affinity = result_row.affinity\n",
    "            best_docked_model = result_row"
   ]
  },
  {
   "cell_type": "markdown",
   "metadata": {},
   "source": [
    "### 查看最好的model"
   ]
  },
  {
   "cell_type": "code",
   "execution_count": 8,
   "metadata": {},
   "outputs": [
    {
     "data": {
      "text/plain": [
       "Row(affinity=-5.74657186271299, docked_pdbqt='\\nREMARK  Name = ZINC000044171185\\nREMARK                            x       y       z     vdW  Elec       q    Type\\nREMARK                         _______ _______ _______ _____ _____    ______ ____\\nROOT\\nATOM      1  C   LIG    1      171.546-109.786-112.188  0.00  0.00    +0.180 C \\nATOM      2  O   LIG    1      171.303-110.972-111.400  0.00  0.00    -0.340 OA\\nATOM      3  C   LIG    1      169.867-111.074-111.298  0.00  0.00    +0.430 C \\nATOM      4  C   LIG    1      169.383-109.623-111.081  0.00  0.00    +0.180 C \\nATOM      5  C   LIG    1      170.512-108.755-111.683  0.00  0.00    +0.190 C \\nENDROOT\\nBRANCH   3   6\\nATOM      6  N   LIG    1      169.494-111.914-110.156  0.00  0.00    -0.490 N \\nATOM      7  C   LIG    1      168.227-112.295-109.814  0.00  0.00    +0.380 A \\nATOM      8  N   LIG    1      168.258-113.038-108.748  0.00  0.00    -0.440 NA\\nATOM      9  C   LIG    1      169.545-113.181-108.337  0.00  0.00    -0.230 A \\nATOM     10  C   LIG    1      170.162-113.852-107.278  0.00  0.00    +0.520 A \\nATOM     11  N   LIG    1      171.520-113.778-107.166  0.00  0.00    -0.680 NA\\nATOM     12  C   LIG    1      172.240-113.073-108.055  0.00  0.00    +0.640 A \\nATOM     13  N   LIG    1      171.669-112.431-109.067  0.00  0.00    -0.680 NA\\nATOM     14  O   LIG    1      173.453-113.024-107.931  0.00  0.00    -0.610 OA\\nATOM     15  C   LIG    1      170.352-112.464-109.244  0.00  0.00    +0.390 A \\nBRANCH  10  16\\nATOM     16  N   LIG    1      169.422-114.566-106.376  0.00  0.00    -0.830 N \\nATOM     17  H   LIG    1      168.466-114.415-106.304  0.00  0.00    +0.400 HD\\nATOM     18  H   LIG    1      169.853-115.224-105.808  0.00  0.00    +0.410 HD\\nENDBRANCH  10  16\\nENDBRANCH   3   6\\nBRANCH   1  19\\nATOM     19  C   LIG    1      172.968-109.273-111.955  0.00  0.00    +0.260 C \\nBRANCH  19  20\\nATOM     20  O   LIG    1      173.575-110.007-110.858  0.00  0.00    -0.350 OA\\nBRANCH  20  22\\nATOM     21  C   LIG    1      174.683-109.811-108.660  0.00  0.00    +0.150 C \\nATOM     22  C   LIG    1      174.418-109.330-110.064  0.00  0.00    +0.460 C \\nATOM     23  O   LIG    1      174.964-108.333-110.473  0.00  0.00    -0.510 OA\\nENDBRANCH  20  22\\nENDBRANCH  19  20\\nENDBRANCH   1  19\\nBRANCH   4  24\\nATOM     24  O   LIG    1      168.134-109.393-111.786  0.00  0.00    -0.330 OA\\nBRANCH  24  25\\nATOM     25  C   LIG    1      167.082-109.000-111.050  0.00  0.00    +0.450 C \\nATOM     26  O   LIG    1      166.072-109.664-111.037  0.00  0.00    -0.490 OA\\nATOM     27  C   LIG    1      167.160-107.732-110.240  0.00  0.00    +0.160 C \\nENDBRANCH  24  25\\nENDBRANCH   4  24\\nBRANCH   5  28\\nATOM     28  O   LIG    1      170.007-107.952-112.782  0.00  0.00    -0.320 OA\\nBRANCH  28  29\\nATOM     29  C   LIG    1      169.924-106.627-112.581  0.00  0.00    +0.460 C \\nATOM     30  O   LIG    1      170.052-106.177-111.468  0.00  0.00    -0.510 OA\\nATOM     31  C   LIG    1      169.670-105.703-113.744  0.00  0.00    +0.160 C \\nENDBRANCH  28  29\\nENDBRANCH   5  28\\nTORSDOF 9\\n')"
      ]
     },
     "execution_count": 8,
     "metadata": {},
     "output_type": "execute_result"
    }
   ],
   "source": [
    "best_docked_model"
   ]
  },
  {
   "cell_type": "markdown",
   "metadata": {},
   "source": [
    "### 可视化最好的model"
   ]
  },
  {
   "cell_type": "code",
   "execution_count": 9,
   "metadata": {},
   "outputs": [],
   "source": [
    "# 一个把上面显示的这个PDBQT的字符串加载成MDTraj的结构模型\n",
    "def load_pdbqt_string(pdbqt_string):\n",
    "    pdb_model = None\n",
    "    tmp = tempfile.NamedTemporaryFile()\n",
    "    mol = pybel.readstring('pdbqt', pdbqt_string)\n",
    "    \n",
    "    pdbfile = tmp.name + '.pdb'\n",
    "    mol.write('pdb', pdbfile)\n",
    "    return mdtraj.load_pdb(pdbfile)"
   ]
  },
  {
   "cell_type": "code",
   "execution_count": 10,
   "metadata": {},
   "outputs": [],
   "source": [
    "pdb_model = load_pdbqt_string(best_docked_model.docked_pdbqt)"
   ]
  },
  {
   "cell_type": "markdown",
   "metadata": {},
   "source": [
    "### 查看一下加载的这个小分子\n",
    "\n",
    "+ 有多少个原子？\n",
    "+ 有多少化学键？"
   ]
  },
  {
   "cell_type": "code",
   "execution_count": 11,
   "metadata": {},
   "outputs": [
    {
     "data": {
      "text/plain": [
       "<mdtraj.Topology with 1 chains, 1 residues, 31 atoms, 33 bonds at 0x7f6749fd3f90>"
      ]
     },
     "execution_count": 11,
     "metadata": {},
     "output_type": "execute_result"
    }
   ],
   "source": [
    "pdb_model.topology"
   ]
  },
  {
   "cell_type": "markdown",
   "metadata": {},
   "source": [
    "### 利用NGLWidget可视化小分子和蛋白结合"
   ]
  },
  {
   "cell_type": "code",
   "execution_count": 12,
   "metadata": {},
   "outputs": [
    {
     "data": {
      "text/plain": [
       "<nglview.component.ComponentViewer at 0x7f6749fd3dd0>"
      ]
     },
     "execution_count": 12,
     "metadata": {},
     "output_type": "execute_result"
    }
   ],
   "source": [
    "view = nglview.NGLWidget()\n",
    "view.add_pdbid('4zph')\n",
    "view.add_trajectory(pdb_model)"
   ]
  },
  {
   "cell_type": "code",
   "execution_count": 13,
   "metadata": {},
   "outputs": [
    {
     "data": {
      "application/vnd.jupyter.widget-view+json": {
       "model_id": "89bb68c56d8242d7bccadf8134c97b70",
       "version_major": 2,
       "version_minor": 0
      },
      "text/plain": [
       "NGLWidget()"
      ]
     },
     "metadata": {},
     "output_type": "display_data"
    }
   ],
   "source": [
    "view"
   ]
  },
  {
   "cell_type": "markdown",
   "metadata": {},
   "source": [
    "### ZINC数据库中这个小分子的信息"
   ]
  },
  {
   "cell_type": "code",
   "execution_count": 17,
   "metadata": {},
   "outputs": [
    {
     "data": {
      "text/plain": [
       "'https://zinc15.docking.org/substances/ZINC000044171185/'"
      ]
     },
     "execution_count": 17,
     "metadata": {},
     "output_type": "execute_result"
    }
   ],
   "source": [
    "# Index 0就是第一个小分子在数据库中的索引号\n",
    "\n",
    "url = 'https://zinc15.docking.org/substances/{}/'.format(df.select('name').collect()[0].name)\n",
    "url"
   ]
  },
  {
   "cell_type": "code",
   "execution_count": 18,
   "metadata": {},
   "outputs": [
    {
     "data": {
      "text/html": [
       "\n",
       "        <iframe\n",
       "            width=\"1400\"\n",
       "            height=\"1000\"\n",
       "            src=\"https://zinc15.docking.org/substances/ZINC000044171185/\"\n",
       "            frameborder=\"0\"\n",
       "            allowfullscreen\n",
       "        ></iframe>\n",
       "        "
      ],
      "text/plain": [
       "<IPython.lib.display.IFrame at 0x7f6712298150>"
      ]
     },
     "execution_count": 18,
     "metadata": {},
     "output_type": "execute_result"
    }
   ],
   "source": [
    "import IPython\n",
    "\n",
    "IPython.display.IFrame(src=url, width=1400, height=1000)"
   ]
  },
  {
   "cell_type": "markdown",
   "metadata": {},
   "source": [
    "### 结论\n",
    "\n",
    "1. 从上图看，小分子确实被dock到了晶体结构我们想dock的地方。\n",
    "2. 并且它和晶体结构中的抑制剂是重合的，意思也就是说，被安放到了正确的（我们期待的地方）。"
   ]
  },
  {
   "cell_type": "markdown",
   "metadata": {},
   "source": [
    "### 扩展\n",
    "\n",
    "1. 可以查看一下其他affinity差一些的model，看看他们被安放到了什么位置，是什么构象？"
   ]
  },
  {
   "cell_type": "code",
   "execution_count": null,
   "metadata": {},
   "outputs": [],
   "source": []
  }
 ],
 "metadata": {
  "kernelspec": {
   "display_name": "Python 3",
   "language": "python",
   "name": "python3"
  },
  "language_info": {
   "codemirror_mode": {
    "name": "ipython",
    "version": 3
   },
   "file_extension": ".py",
   "mimetype": "text/x-python",
   "name": "python",
   "nbconvert_exporter": "python",
   "pygments_lexer": "ipython3",
   "version": "3.7.6"
  }
 },
 "nbformat": 4,
 "nbformat_minor": 4
}
